{
 "cells": [
  {
   "cell_type": "markdown",
   "metadata": {},
   "source": [
    "# Day objectives\n",
    "- loop example\n",
    "- function(user defined function)\n",
    "- list, tuples and strings"
   ]
  },
  {
   "cell_type": "code",
   "execution_count": 10,
   "metadata": {},
   "outputs": [
    {
     "name": "stdout",
     "output_type": "stream",
     "text": [
      "145\n",
      "541"
     ]
    }
   ],
   "source": [
    "# while loop\n",
    "# factor\n",
    "# read the number as input\n",
    "# print the output as digits of the numbers\n",
    "# test cases...\n",
    "# 145.....541\n",
    "n=int(input(''))\n",
    "while n!= 0:\n",
    "    r=n%10\n",
    "    print(r,end = '')\n",
    "    n=n//10\n"
   ]
  },
  {
   "cell_type": "markdown",
   "metadata": {},
   "source": [
    "# function in programing\n",
    "- program will b divide into sub parts\n",
    "-  it makes the re-use of the code\n",
    "- function makes the programming more easier \n",
    "- def is the keyword which is used to define the function \n",
    "- function name defines the camel case always \n",
    " - fun() is palindrome() is palindromecheck()\n",
    "- defination of the function can be anything for the given requirement  \n",
    "- dell function name():\n",
    "  - statemnts\n",
    "  - return"
   ]
  },
  {
   "cell_type": "code",
   "execution_count": 2,
   "metadata": {},
   "outputs": [
    {
     "name": "stdout",
     "output_type": "stream",
     "text": [
      "8563\n"
     ]
    },
    {
     "data": {
      "text/plain": [
       "8"
      ]
     },
     "execution_count": 2,
     "metadata": {},
     "output_type": "execute_result"
    }
   ],
   "source": [
    "# read the input as number\n",
    "# print the output as large digit of the given number\n",
    "# 5869.....9\n",
    "#  7561238.....8\n",
    "def largeDigit(n):\n",
    "    a=0 \n",
    "    while n!=0:\n",
    "        r=n%10\n",
    "        if r>a:\n",
    "            a=r\n",
    "        n=n//10\n",
    "    return a\n",
    "n=int(input(''))\n",
    "largeDigit(n)\n"
   ]
  },
  {
   "cell_type": "code",
   "execution_count": 2,
   "metadata": {},
   "outputs": [
    {
     "name": "stdout",
     "output_type": "stream",
     "text": [
      "123\n"
     ]
    },
    {
     "data": {
      "text/plain": [
       "6"
      ]
     },
     "execution_count": 2,
     "metadata": {},
     "output_type": "execute_result"
    }
   ],
   "source": [
    "# read the input as number\n",
    "# sum of numbers as the output\n",
    "# 145......10(1+4+5)\n",
    "def sumofDigits(n):\n",
    "    s=0\n",
    "    while n>0:\n",
    "        r=n%10\n",
    "        s=s+r\n",
    "        n=n//10\n",
    "    return s\n",
    "n=int(input(''))\n",
    "sumofDigits(n)"
   ]
  },
  {
   "cell_type": "code",
   "execution_count": 5,
   "metadata": {},
   "outputs": [
    {
     "name": "stdout",
     "output_type": "stream",
     "text": [
      "12321\n",
      "palindrome\n"
     ]
    }
   ],
   "source": [
    "# read the input as number\n",
    "# print the output as \"palindrome\"or not a palindrome\n",
    "\n",
    "\n",
    "\n",
    "def palindromeDigit(n):\n",
    "    reverse=0\n",
    "    buffer=n\n",
    "    while n!=0:\n",
    "        r=n%10\n",
    "        reverse=reverse*10+r\n",
    "        n=n//10\n",
    "    if buffer==reverse:\n",
    "        print('palindrome')\n",
    "    else:\n",
    "        print('not a palindrome')\n",
    "        return reverse\n",
    "n= int(input(''))\n",
    "palindromeDigit(n)"
   ]
  },
  {
   "cell_type": "code",
   "execution_count": 1,
   "metadata": {},
   "outputs": [
    {
     "name": "stdout",
     "output_type": "stream",
     "text": [
      "28965\n"
     ]
    },
    {
     "data": {
      "text/plain": [
       "9"
      ]
     },
     "execution_count": 1,
     "metadata": {},
     "output_type": "execute_result"
    }
   ],
   "source": [
    "# large number from last three digits\n",
    "def largeDigits(n):\n",
    "    i=0\n",
    "    a=0\n",
    "    while i!=3:\n",
    "        r=n%10\n",
    "        if a<r:\n",
    "            a=r\n",
    "        n=n//10\n",
    "        i=i+1\n",
    "    return a\n",
    "n= int(input(''))\n",
    "largeDigits(n)"
   ]
  },
  {
   "cell_type": "markdown",
   "metadata": {},
   "source": [
    "# data  structures of python programming\n",
    "- list\n",
    "- tuples\n",
    "- dictonaries\n",
    "- sets"
   ]
  },
  {
   "cell_type": "code",
   "execution_count": 3,
   "metadata": {},
   "outputs": [
    {
     "name": "stdout",
     "output_type": "stream",
     "text": [
      "[1, 25, 3, 9]\n"
     ]
    }
   ],
   "source": [
    "li=[1,25,3,9]\n",
    "print(li)"
   ]
  },
  {
   "cell_type": "code",
   "execution_count": 4,
   "metadata": {},
   "outputs": [
    {
     "name": "stdout",
     "output_type": "stream",
     "text": [
      "['giytam', 9856, 256.2]\n"
     ]
    }
   ],
   "source": [
    "lil=[\"giytam\",9856,256.2,]\n",
    "print(lil)"
   ]
  },
  {
   "cell_type": "code",
   "execution_count": 5,
   "metadata": {},
   "outputs": [
    {
     "data": {
      "text/plain": [
       "25"
      ]
     },
     "execution_count": 5,
     "metadata": {},
     "output_type": "execute_result"
    }
   ],
   "source": [
    "li[1]"
   ]
  },
  {
   "cell_type": "code",
   "execution_count": null,
   "metadata": {},
   "outputs": [],
   "source": [
    "for i in range"
   ]
  }
 ],
 "metadata": {
  "kernelspec": {
   "display_name": "Python 3",
   "language": "python",
   "name": "python3"
  },
  "language_info": {
   "codemirror_mode": {
    "name": "ipython",
    "version": 3
   },
   "file_extension": ".py",
   "mimetype": "text/x-python",
   "name": "python",
   "nbconvert_exporter": "python",
   "pygments_lexer": "ipython3",
   "version": "3.7.1"
  }
 },
 "nbformat": 4,
 "nbformat_minor": 2
}
