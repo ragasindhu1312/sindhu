{
 "cells": [
  {
   "cell_type": "markdown",
   "metadata": {},
   "source": [
    "# introduction to python\n",
    "## datatypes of python programming\n",
    "\n",
    "-class  -- int float str\n",
    " - int\n",
    " -float\n",
    " -str\n",
    "\n"
   ]
  },
  {
   "cell_type": "code",
   "execution_count": 1,
   "metadata": {},
   "outputs": [
    {
     "name": "stdout",
     "output_type": "stream",
     "text": [
      "welcome to python\n"
     ]
    }
   ],
   "source": [
    "print(\"welcome to python\")"
   ]
  },
  {
   "cell_type": "code",
   "execution_count": 2,
   "metadata": {},
   "outputs": [
    {
     "name": "stdout",
     "output_type": "stream",
     "text": [
      "welcome to python\n",
      "welcome to jupyter\n"
     ]
    }
   ],
   "source": [
    "print(\"welcome to python\")\n",
    "print(\"welcome to jupyter\")"
   ]
  },
  {
   "cell_type": "code",
   "execution_count": 4,
   "metadata": {},
   "outputs": [
    {
     "name": "stdout",
     "output_type": "stream",
     "text": [
      "1212121212121212\n",
      "<class 'int'>\n"
     ]
    }
   ],
   "source": [
    "x=1212121212121212\n",
    "print(x)\n",
    "print(type (x))"
   ]
  },
  {
   "cell_type": "code",
   "execution_count": 5,
   "metadata": {},
   "outputs": [
    {
     "name": "stdout",
     "output_type": "stream",
     "text": [
      "12.65\n",
      "<class 'float'>\n"
     ]
    }
   ],
   "source": [
    "a=12.65\n",
    "print(a)\n",
    "print(type(a))"
   ]
  },
  {
   "cell_type": "code",
   "execution_count": 7,
   "metadata": {},
   "outputs": [
    {
     "name": "stdout",
     "output_type": "stream",
     "text": [
      "welcome to python\n",
      "appilication\n",
      "<class 'str'>\n",
      "<class 'str'>\n"
     ]
    }
   ],
   "source": [
    "s=\"welcome to python\"\n",
    "s1='appilication'\n",
    "print(s)\n",
    "print(s1)\n",
    "print(type(s))\n",
    "print(type(s1))    "
   ]
  },
  {
   "cell_type": "markdown",
   "metadata": {},
   "source": [
    "# datatype coversion \n",
    "- int()\n",
    " - int() converts the input into int class\n",
    " - str()\n",
    "  - str() converts the input into str class \n",
    " - float()\n",
    " - float() converts the input into float class"
   ]
  },
  {
   "cell_type": "code",
   "execution_count": 8,
   "metadata": {},
   "outputs": [
    {
     "name": "stdout",
     "output_type": "stream",
     "text": [
      "25.99<class 'str'>\n",
      "25.99<class 'float'>\n",
      "25.99<class 'int'>\n"
     ]
    }
   ],
   "source": [
    "x=\"25.99\"\n",
    "print(x,end ='')\n",
    "print(type(x))\n",
    "a=float(x)\n",
    "print(x,end ='')\n",
    "print(type(a))\n",
    "b=int(a)\n",
    "print(x,end ='')\n",
    "print(type(b))"
   ]
  },
  {
   "cell_type": "markdown",
   "metadata": {},
   "source": [
    "#  input methods of python\n",
    " - input()reads the type in terms of string class\n",
    " - use the conversion methods to convert into respective type \n",
    "   - like int() float() str()\n"
   ]
  },
  {
   "cell_type": "code",
   "execution_count": 9,
   "metadata": {},
   "outputs": [
    {
     "name": "stdout",
     "output_type": "stream",
     "text": [
      "entere your name14\n",
      "14<class 'str'>\n"
     ]
    }
   ],
   "source": [
    "s=input('entere your name')\n",
    "print(s,end ='')\n",
    "print(type(s))"
   ]
  },
  {
   "cell_type": "markdown",
   "metadata": {},
   "source": [
    "# control flow  statements\n",
    "- conditional statements\n",
    "  - if-else\n",
    "- looping statements\n",
    "  - while\n",
    "  - for\n",
    "  "
   ]
  },
  {
   "cell_type": "markdown",
   "metadata": {},
   "source": [
    "### if boolean_condition :\n",
    "###      statement\n",
    "###  else :\n",
    "###     statement"
   ]
  },
  {
   "cell_type": "code",
   "execution_count": 15,
   "metadata": {},
   "outputs": [
    {
     "name": "stdout",
     "output_type": "stream",
     "text": [
      "9\n",
      "odd number\n"
     ]
    }
   ],
   "source": [
    "a=int(input(''))\n",
    "if a%2==0:\n",
    "    print('even number')\n",
    "else:\n",
    "    print('odd number')    "
   ]
  },
  {
   "cell_type": "markdown",
   "metadata": {},
   "source": [
    "# and,or,not,True,False\n",
    "- read the age of the person as input\n",
    "- print output as whether he is eligible for voting or not\n",
    "- eligible range is 18 to 85 "
   ]
  },
  {
   "cell_type": "code",
   "execution_count": 16,
   "metadata": {},
   "outputs": [
    {
     "name": "stdout",
     "output_type": "stream",
     "text": [
      "age5\n",
      "not eligible\n"
     ]
    }
   ],
   "source": [
    "a=int(input('age'))\n",
    "if 18<a<85:\n",
    "    print('eligible')\n",
    "else:\n",
    "    print('not eligible')    "
   ]
  },
  {
   "cell_type": "code",
   "execution_count": 17,
   "metadata": {},
   "outputs": [
    {
     "name": "stdout",
     "output_type": "stream",
     "text": [
      "3.3333333333333335\n",
      "3\n",
      "1\n",
      "30\n",
      "1000\n"
     ]
    }
   ],
   "source": [
    "a=10\n",
    "b=3\n",
    "print(a/b) #division (output as decimal value)\n",
    "print(a//b) #division(output as int value)\n",
    "print(a%b) #modular division (output as reminder)\n",
    "print(a*b) #multipication\n",
    "print(a**b) #power\n"
   ]
  },
  {
   "cell_type": "code",
   "execution_count": 19,
   "metadata": {},
   "outputs": [
    {
     "name": "stdout",
     "output_type": "stream",
     "text": [
      "hello\n"
     ]
    }
   ],
   "source": [
    "if True:\n",
    "    print('hello')\n",
    "else:\n",
    "    print('bye')\n",
    "    "
   ]
  },
  {
   "cell_type": "code",
   "execution_count": 23,
   "metadata": {},
   "outputs": [
    {
     "name": "stdout",
     "output_type": "stream",
     "text": [
      "a=3\n",
      " b=2\n",
      "4\n"
     ]
    }
   ],
   "source": [
    "# read the input as 2 numbers\n",
    "# if the first number is greater than second number then the square of the second number and vice versa\n",
    "a=int(input('a='))\n",
    "b=int(input(' b='))\n",
    "if a>b:\n",
    "    print(b*b)\n",
    "else:\n",
    "    print(a*a)"
   ]
  },
  {
   "cell_type": "code",
   "execution_count": 7,
   "metadata": {},
   "outputs": [
    {
     "name": "stdout",
     "output_type": "stream",
     "text": [
      "a=2\n",
      "positive\n"
     ]
    }
   ],
   "source": [
    "# read the number as input\n",
    "# give the output as negative,positive or zero\n",
    "a=int(input('a='))\n",
    "if a>0:\n",
    "    print('positive')\n",
    "elif a<0:\n",
    "    print('negative')\n",
    "elif a==0:\n",
    "    print('zero')"
   ]
  },
  {
   "cell_type": "code",
   "execution_count": 5,
   "metadata": {},
   "outputs": [
    {
     "name": "stdout",
     "output_type": "stream",
     "text": [
      "good\n"
     ]
    }
   ],
   "source": [
    "a=100\n",
    "if a>10:\n",
    "    print('good')\n",
    "elif a>20:\n",
    "    print('better')\n",
    "elif a>30:\n",
    "    print('best')\n",
    "else:\n",
    "    print('nothing')"
   ]
  },
  {
   "cell_type": "markdown",
   "metadata": {},
   "source": [
    "# ++&&-- symbols will not work in python programming\n",
    "# while boolean_condition\n",
    "# statements"
   ]
  },
  {
   "cell_type": "code",
   "execution_count": 8,
   "metadata": {},
   "outputs": [
    {
     "name": "stdout",
     "output_type": "stream",
     "text": [
      "1 2 3 4 5 6 7 8 9 10 "
     ]
    }
   ],
   "source": [
    "# print the numbers from 1 to 10\n",
    "a=1\n",
    "while a <= 10:\n",
    "    print(a,end = ' ')\n",
    "    a = a+1"
   ]
  },
  {
   "cell_type": "code",
   "execution_count": 12,
   "metadata": {},
   "outputs": [
    {
     "name": "stdout",
     "output_type": "stream",
     "text": [
      "5\n",
      "15\n"
     ]
    }
   ],
   "source": [
    "# read the n as input\n",
    "# print the sum of n natural numbers\n",
    "# 5--15)(1+2+3+4+5)\n",
    "n=int(input(''))\n",
    "a=1\n",
    "sum=0\n",
    "while a<=n:\n",
    "    sum+=a # sum= sum+a\n",
    "    a+=1\n",
    "print(sum)\n",
    "\n"
   ]
  },
  {
   "cell_type": "code",
   "execution_count": 1,
   "metadata": {},
   "outputs": [
    {
     "name": "stdout",
     "output_type": "stream",
     "text": [
      "10\n",
      "246810"
     ]
    }
   ],
   "source": [
    "# read the input as n\n",
    "# print the only even numbers\n",
    "# 10---2 4 6 8 10\n",
    "n=int(input(''))\n",
    "a=1\n",
    "while a <=n :\n",
    "   if a % 2 == 0:\n",
    "    print(a,end = '')\n",
    "   a += 1"
   ]
  },
  {
   "cell_type": "code",
   "execution_count": 4,
   "metadata": {},
   "outputs": [
    {
     "name": "stdout",
     "output_type": "stream",
     "text": [
      "6\n",
      "1236"
     ]
    }
   ],
   "source": [
    "# read the input as N\n",
    "# print the factors/divisors of the number N\n",
    "# 6 - 1236\n",
    "n=int(input(''))\n",
    "a=1\n",
    "while a<=n:\n",
    "    if n%a==0:\n",
    "        print(a,end = '')\n",
    "    a +=1   "
   ]
  },
  {
   "cell_type": "code",
   "execution_count": null,
   "metadata": {},
   "outputs": [],
   "source": []
  }
 ],
 "metadata": {
  "kernelspec": {
   "display_name": "Python 3",
   "language": "python",
   "name": "python3"
  },
  "language_info": {
   "codemirror_mode": {
    "name": "ipython",
    "version": 3
   },
   "file_extension": ".py",
   "mimetype": "text/x-python",
   "name": "python",
   "nbconvert_exporter": "python",
   "pygments_lexer": "ipython3",
   "version": "3.7.3"
  }
 },
 "nbformat": 4,
 "nbformat_minor": 2
}
