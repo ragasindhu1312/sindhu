{
 "cells": [
  {
   "cell_type": "code",
   "execution_count": null,
   "metadata": {},
   "outputs": [],
   "source": [
    "#include<stdio.h>\n",
    "int main()\n",
    "{\n",
    "\tint x,y;\n",
    "\tprintf(\"enter the number\");\n",
    "\t\tscanf(\"%d\",&x);\n",
    "\t\tprintf(\"enter the number\");\n",
    "\t\tscanf(\"%d\",&y);\n",
    "\t\tif (x>y)\n",
    "\t    {\n",
    "\t\t\tprintf(\"%d\",y*y);\n",
    "\t\t}\n",
    "\t\telse\n",
    "\t\t{\n",
    "\t\t printf(\"%d\",x*x);\n",
    "\t\t}\n",
    "}"
   ]
  },
  {
   "cell_type": "code",
   "execution_count": null,
   "metadata": {},
   "outputs": [],
   "source": [
    "#include<stdio.h>\n",
    "int main()\n",
    "{\n",
    "\tint age;\n",
    "\tprintf(\"enter the age\");\n",
    "\tscanf(\"%d\",&age);\n",
    "\tif (18<=age&&age<=85)\n",
    "\t{\n",
    "\t\tprintf(\"eligible for voting\");\n",
    "\t}\n",
    "\telse\n",
    "\t{\n",
    "\t\tprintf(\"not eligible\");\n",
    "\t}\n",
    "}"
   ]
  },
  {
   "cell_type": "code",
   "execution_count": null,
   "metadata": {},
   "outputs": [],
   "source": [
    "#a.....z 97...122\n",
    "#A....Z   65...90\n",
    "#DIGITAL....48...57\n",
    "#include<stdio.h>\n",
    "int main()\n",
    "{\n",
    "\tint y;\n",
    "\tprintf(\"enter the value\");\n",
    "\tscanf(\"%c\",&y);\n",
    "\tif (97<=y&&y<=122)\n",
    "\t{\n",
    "\tprintf(\"lower case\");\t\n",
    "\t}\n",
    "\telse if (65<=y&&y<=90)\n",
    "\t{\n",
    "\t\tprintf(\"upper case\");\n",
    "\t}\n",
    "\telse if(48<=y&&y<=57)\n",
    "\t{\n",
    "\t\tprintf(\" digit character\");\n",
    "\t}\n",
    "}"
   ]
  },
  {
   "cell_type": "code",
   "execution_count": null,
   "metadata": {},
   "outputs": [],
   "source": [
    "# vowel....consonents\n",
    "#include<stdio.h>\n",
    "int main()\n",
    "{\n",
    "\tchar x;\n",
    "\tprintf(\"enter the value\");\n",
    "\tscanf(\"%c\",&x);\n",
    "\tif(x=='a'|| x=='e'|| x=='i'|| x=='o'|| x=='u')\n",
    "\t{\n",
    "\tprintf(\"vowel\");\n",
    "\t}\n",
    "\telse \n",
    "\t{\n",
    "\tprintf(\"consonant\");\n",
    "\t}\t\n",
    "}"
   ]
  },
  {
   "cell_type": "code",
   "execution_count": null,
   "metadata": {},
   "outputs": [],
   "source": [
    "# it should divisible by 3 and 5\n",
    "# if divided by 3&5    .....yes\n",
    "# not divided by 3&5........no\n",
    "#include<stdio.h>\n",
    "int main()\n",
    "{\n",
    "\tint x;\n",
    "\tprintf(\"enter the value\");\n",
    "\tscanf(\"%d\",&x);\n",
    "\tif (x%3==0&&x%5==0)\n",
    "\t{\n",
    "\t\tprintf(\"yes\");\n",
    "\t}\n",
    "\telse\n",
    "\t{\n",
    "\t\tprintf(\"no\");\n",
    "\t}\n",
    "}"
   ]
  },
  {
   "cell_type": "code",
   "execution_count": null,
   "metadata": {},
   "outputs": [],
   "source": [
    "# enter the i/p as week number and get the o/p as week day \n",
    "# 2.....monday\n",
    "# 5.....thursday\n",
    "\n",
    "#include<stdio.h>\n",
    "int main()\n",
    "{\n",
    "\tint a;\n",
    "\tprintf(\"enter the value\");\n",
    "\tscanf(\"%d\",&a);\n",
    "\tswitch(a)\n",
    "\t{\n",
    "\t\tcase 1:printf(\"sunday\");\n",
    "\t\tbreak;\n",
    "\t\tcase 2:printf(\"monday\");\n",
    "\t\tbreak;\n",
    "\t\tcase 3:printf(\"tuesday\");\n",
    "\t\tbreak;\n",
    "\t\tcase 4:printf(\"wednesday\");\n",
    "\t\tbreak;\n",
    "\t\tcase 5:printf(\"thursday\");\n",
    "\t\tbreak;\n",
    "\t\tcase 6:printf(\"friday\");\n",
    "\t\tbreak;\n",
    "\t\tcase 7:printf(\"saturday\");\n",
    "\t\tbreak;\n",
    "\t\t}\n",
    "}"
   ]
  },
  {
   "cell_type": "markdown",
   "metadata": {},
   "source": [
    "# working process of while loop\n",
    "- while(boolean code)\n",
    "- {\n",
    "-  loop statements\n",
    "- increment/decrement\n",
    "- }\n",
    "-\n"
   ]
  },
  {
   "cell_type": "code",
   "execution_count": null,
   "metadata": {},
   "outputs": [],
   "source": [
    "#include<stdio.h>\n",
    "int main()\n",
    "{\n",
    "\tint s,x,y,z;\t\n",
    "\tprintf(\"enter the angles\");\n",
    "\tscanf(\"%d%d%d\",&x,&y,&z);\n",
    "\ts=x+y+z;\n",
    "\tif (x!=0&&y!=0&&z!=0)\n",
    "\t{\n",
    "\t\tif (s==180)\n",
    "\t\t{\n",
    "\t\t\tprintf(\"yes\");\n",
    "\t\t}\n",
    "\t\telse\n",
    "\t\t{\n",
    "\t\t\tprintf(\"no\");\n",
    "\t\t}\n",
    "\t}\n",
    "\t\t\n",
    "}"
   ]
  },
  {
   "cell_type": "code",
   "execution_count": null,
   "metadata": {},
   "outputs": [],
   "source": [
    "#include<stdio.h>\n",
    "int main()\n",
    "{\n",
    "\tint i,x;\n",
    "\tprintf(\"enter the value\");\n",
    "\tscanf(\"%d\",&x);\n",
    "\ti=1;\n",
    "\twhile(i<=x)\n",
    "\t{\n",
    "\t\tprintf(\"%d\",i);\n",
    "\t\ti++;\n",
    "\t}\n",
    "}"
   ]
  },
  {
   "cell_type": "code",
   "execution_count": null,
   "metadata": {},
   "outputs": [],
   "source": [
    "#include<stdio.h>\n",
    "int main()\n",
    "{\n",
    "\tint x,n,s;\n",
    "    scanf(\"%d\",&n);\n",
    "    x=2;\n",
    "\ts=0;\n",
    "    while(x<=n)\n",
    "    {\n",
    "    s=s+x;\t\n",
    "\tx=x+2;\t\t\t\n",
    "\t}\n",
    "\tprintf(\"%d\",s);\n",
    "}"
   ]
  },
  {
   "cell_type": "code",
   "execution_count": null,
   "metadata": {},
   "outputs": [],
   "source": []
  },
  {
   "cell_type": "code",
   "execution_count": null,
   "metadata": {},
   "outputs": [],
   "source": []
  },
  {
   "cell_type": "code",
   "execution_count": null,
   "metadata": {},
   "outputs": [],
   "source": []
  }
 ],
 "metadata": {
  "kernelspec": {
   "display_name": "Python 3",
   "language": "python",
   "name": "python3"
  },
  "language_info": {
   "codemirror_mode": {
    "name": "ipython",
    "version": 3
   },
   "file_extension": ".py",
   "mimetype": "text/x-python",
   "name": "python",
   "nbconvert_exporter": "python",
   "pygments_lexer": "ipython3",
   "version": "3.7.1"
  }
 },
 "nbformat": 4,
 "nbformat_minor": 2
}
